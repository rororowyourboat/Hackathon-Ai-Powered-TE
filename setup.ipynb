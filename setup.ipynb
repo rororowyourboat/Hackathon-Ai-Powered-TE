{
 "cells": [
  {
   "cell_type": "code",
   "execution_count": 1,
   "metadata": {},
   "outputs": [
    {
     "name": "stdout",
     "output_type": "stream",
     "text": [
      "Python 3.9.16\n"
     ]
    }
   ],
   "source": [
    "!python --version"
   ]
  },
  {
   "cell_type": "code",
   "execution_count": 2,
   "metadata": {},
   "outputs": [
    {
     "name": "stdout",
     "output_type": "stream",
     "text": [
      "Requirement already satisfied: radcad==0.8.4 in c:\\users\\e4roh\\anaconda3\\envs\\augment_hackathon\\lib\\site-packages (from -r requirements.txt (line 1)) (0.8.4)\n",
      "Requirement already satisfied: ipykernel==5.5.3 in c:\\users\\e4roh\\anaconda3\\envs\\augment_hackathon\\lib\\site-packages (from -r requirements.txt (line 2)) (5.5.3)\n",
      "Requirement already satisfied: matplotlib==3.3.4 in c:\\users\\e4roh\\anaconda3\\envs\\augment_hackathon\\lib\\site-packages (from -r requirements.txt (line 3)) (3.3.4)\n",
      "Requirement already satisfied: plotly==5.1.0 in c:\\users\\e4roh\\anaconda3\\envs\\augment_hackathon\\lib\\site-packages (from -r requirements.txt (line 4)) (5.1.0)\n",
      "Requirement already satisfied: typing_extensions in c:\\users\\e4roh\\anaconda3\\envs\\augment_hackathon\\lib\\site-packages (from -r requirements.txt (line 5)) (4.6.3)\n",
      "Requirement already satisfied: ipython-autotime==0.3.1 in c:\\users\\e4roh\\anaconda3\\envs\\augment_hackathon\\lib\\site-packages (from -r requirements.txt (line 6)) (0.3.1)\n",
      "Requirement already satisfied: ipywidgets==7.6.3 in c:\\users\\e4roh\\anaconda3\\envs\\augment_hackathon\\lib\\site-packages (from -r requirements.txt (line 7)) (7.6.3)\n",
      "Requirement already satisfied: nbconvert==5.6.1 in c:\\users\\e4roh\\anaconda3\\envs\\augment_hackathon\\lib\\site-packages (from -r requirements.txt (line 8)) (5.6.1)\n",
      "Requirement already satisfied: cadCAD_tools==0.0.1.4 in c:\\users\\e4roh\\anaconda3\\envs\\augment_hackathon\\lib\\site-packages (from -r requirements.txt (line 9)) (0.0.1.4)\n",
      "Requirement already satisfied: langchain in c:\\users\\e4roh\\anaconda3\\envs\\augment_hackathon\\lib\\site-packages (from -r requirements.txt (line 10)) (0.0.217)\n",
      "Requirement already satisfied: openai in c:\\users\\e4roh\\anaconda3\\envs\\augment_hackathon\\lib\\site-packages (from -r requirements.txt (line 11)) (0.27.8)\n",
      "Requirement already satisfied: streamlit==1.14.0 in c:\\users\\e4roh\\anaconda3\\envs\\augment_hackathon\\lib\\site-packages (from -r requirements.txt (line 12)) (1.14.0)\n",
      "Requirement already satisfied: streamlit-chat in c:\\users\\e4roh\\anaconda3\\envs\\augment_hackathon\\lib\\site-packages (from -r requirements.txt (line 13)) (0.1.1)\n",
      "Requirement already satisfied: tabulate in c:\\users\\e4roh\\anaconda3\\envs\\augment_hackathon\\lib\\site-packages (from -r requirements.txt (line 14)) (0.9.0)\n",
      "Requirement already satisfied: altair<5.0.0,>=4.0.0 in c:\\users\\e4roh\\anaconda3\\envs\\augment_hackathon\\lib\\site-packages (from -r requirements.txt (line 15)) (4.2.2)\n",
      "Requirement already satisfied: gradio in c:\\users\\e4roh\\anaconda3\\envs\\augment_hackathon\\lib\\site-packages (from -r requirements.txt (line 16)) (3.35.2)\n",
      "Requirement already satisfied: pandas<2.0.0,>=1.0.0 in c:\\users\\e4roh\\anaconda3\\envs\\augment_hackathon\\lib\\site-packages (from radcad==0.8.4->-r requirements.txt (line 1)) (1.5.3)\n",
      "Requirement already satisfied: pathos<0.3.0,>=0.2.7 in c:\\users\\e4roh\\anaconda3\\envs\\augment_hackathon\\lib\\site-packages (from radcad==0.8.4->-r requirements.txt (line 1)) (0.2.9)\n",
      "Requirement already satisfied: ipython>=5.0.0 in c:\\users\\e4roh\\anaconda3\\envs\\augment_hackathon\\lib\\site-packages (from ipykernel==5.5.3->-r requirements.txt (line 2)) (8.14.0)\n",
      "Requirement already satisfied: traitlets>=4.1.0 in c:\\users\\e4roh\\anaconda3\\envs\\augment_hackathon\\lib\\site-packages (from ipykernel==5.5.3->-r requirements.txt (line 2)) (5.9.0)\n",
      "Requirement already satisfied: jupyter-client in c:\\users\\e4roh\\anaconda3\\envs\\augment_hackathon\\lib\\site-packages (from ipykernel==5.5.3->-r requirements.txt (line 2)) (8.3.0)\n",
      "Requirement already satisfied: tornado>=4.2 in c:\\users\\e4roh\\anaconda3\\envs\\augment_hackathon\\lib\\site-packages (from ipykernel==5.5.3->-r requirements.txt (line 2)) (6.2)\n",
      "Requirement already satisfied: cycler>=0.10 in c:\\users\\e4roh\\anaconda3\\envs\\augment_hackathon\\lib\\site-packages (from matplotlib==3.3.4->-r requirements.txt (line 3)) (0.11.0)\n",
      "Requirement already satisfied: kiwisolver>=1.0.1 in c:\\users\\e4roh\\anaconda3\\envs\\augment_hackathon\\lib\\site-packages (from matplotlib==3.3.4->-r requirements.txt (line 3)) (1.4.4)\n",
      "Requirement already satisfied: numpy>=1.15 in c:\\users\\e4roh\\anaconda3\\envs\\augment_hackathon\\lib\\site-packages (from matplotlib==3.3.4->-r requirements.txt (line 3)) (1.25.0)\n",
      "Requirement already satisfied: pillow>=6.2.0 in c:\\users\\e4roh\\anaconda3\\envs\\augment_hackathon\\lib\\site-packages (from matplotlib==3.3.4->-r requirements.txt (line 3)) (9.5.0)\n",
      "Requirement already satisfied: pyparsing!=2.0.4,!=2.1.2,!=2.1.6,>=2.0.3 in c:\\users\\e4roh\\anaconda3\\envs\\augment_hackathon\\lib\\site-packages (from matplotlib==3.3.4->-r requirements.txt (line 3)) (3.1.0)\n",
      "Requirement already satisfied: python-dateutil>=2.1 in c:\\users\\e4roh\\anaconda3\\envs\\augment_hackathon\\lib\\site-packages (from matplotlib==3.3.4->-r requirements.txt (line 3)) (2.8.2)\n",
      "Requirement already satisfied: tenacity>=6.2.0 in c:\\users\\e4roh\\anaconda3\\envs\\augment_hackathon\\lib\\site-packages (from plotly==5.1.0->-r requirements.txt (line 4)) (8.2.2)\n",
      "Requirement already satisfied: six in c:\\users\\e4roh\\anaconda3\\envs\\augment_hackathon\\lib\\site-packages (from plotly==5.1.0->-r requirements.txt (line 4)) (1.16.0)\n",
      "Requirement already satisfied: nbformat>=4.2.0 in c:\\users\\e4roh\\anaconda3\\envs\\augment_hackathon\\lib\\site-packages (from ipywidgets==7.6.3->-r requirements.txt (line 7)) (5.9.0)\n",
      "Requirement already satisfied: widgetsnbextension~=3.5.0 in c:\\users\\e4roh\\anaconda3\\envs\\augment_hackathon\\lib\\site-packages (from ipywidgets==7.6.3->-r requirements.txt (line 7)) (3.5.2)\n",
      "Requirement already satisfied: jupyterlab-widgets>=1.0.0 in c:\\users\\e4roh\\anaconda3\\envs\\augment_hackathon\\lib\\site-packages (from ipywidgets==7.6.3->-r requirements.txt (line 7)) (3.0.7)\n",
      "Requirement already satisfied: mistune<2,>=0.8.1 in c:\\users\\e4roh\\anaconda3\\envs\\augment_hackathon\\lib\\site-packages (from nbconvert==5.6.1->-r requirements.txt (line 8)) (0.8.4)\n",
      "Requirement already satisfied: jinja2>=2.4 in c:\\users\\e4roh\\anaconda3\\envs\\augment_hackathon\\lib\\site-packages (from nbconvert==5.6.1->-r requirements.txt (line 8)) (3.1.2)\n",
      "Requirement already satisfied: pygments in c:\\users\\e4roh\\anaconda3\\envs\\augment_hackathon\\lib\\site-packages (from nbconvert==5.6.1->-r requirements.txt (line 8)) (2.15.1)\n",
      "Requirement already satisfied: jupyter-core in c:\\users\\e4roh\\anaconda3\\envs\\augment_hackathon\\lib\\site-packages (from nbconvert==5.6.1->-r requirements.txt (line 8)) (5.3.1)\n",
      "Requirement already satisfied: entrypoints>=0.2.2 in c:\\users\\e4roh\\anaconda3\\envs\\augment_hackathon\\lib\\site-packages (from nbconvert==5.6.1->-r requirements.txt (line 8)) (0.4)\n",
      "Requirement already satisfied: bleach in c:\\users\\e4roh\\anaconda3\\envs\\augment_hackathon\\lib\\site-packages (from nbconvert==5.6.1->-r requirements.txt (line 8)) (6.0.0)\n",
      "Requirement already satisfied: pandocfilters>=1.4.1 in c:\\users\\e4roh\\anaconda3\\envs\\augment_hackathon\\lib\\site-packages (from nbconvert==5.6.1->-r requirements.txt (line 8)) (1.5.0)\n",
      "Requirement already satisfied: testpath in c:\\users\\e4roh\\anaconda3\\envs\\augment_hackathon\\lib\\site-packages (from nbconvert==5.6.1->-r requirements.txt (line 8)) (0.6.0)\n",
      "Requirement already satisfied: defusedxml in c:\\users\\e4roh\\anaconda3\\envs\\augment_hackathon\\lib\\site-packages (from nbconvert==5.6.1->-r requirements.txt (line 8)) (0.7.1)\n",
      "Requirement already satisfied: cadCAD in c:\\users\\e4roh\\anaconda3\\envs\\augment_hackathon\\lib\\site-packages (from cadCAD_tools==0.0.1.4->-r requirements.txt (line 9)) (0.4.28)\n",
      "Requirement already satisfied: blinker>=1.0.0 in c:\\users\\e4roh\\anaconda3\\envs\\augment_hackathon\\lib\\site-packages (from streamlit==1.14.0->-r requirements.txt (line 12)) (1.6.2)\n",
      "Requirement already satisfied: cachetools>=4.0 in c:\\users\\e4roh\\anaconda3\\envs\\augment_hackathon\\lib\\site-packages (from streamlit==1.14.0->-r requirements.txt (line 12)) (5.3.1)\n",
      "Requirement already satisfied: click>=7.0 in c:\\users\\e4roh\\anaconda3\\envs\\augment_hackathon\\lib\\site-packages (from streamlit==1.14.0->-r requirements.txt (line 12)) (8.1.3)\n",
      "Requirement already satisfied: importlib-metadata>=1.4 in c:\\users\\e4roh\\anaconda3\\envs\\augment_hackathon\\lib\\site-packages (from streamlit==1.14.0->-r requirements.txt (line 12)) (6.7.0)\n",
      "Requirement already satisfied: packaging>=14.1 in c:\\users\\e4roh\\anaconda3\\envs\\augment_hackathon\\lib\\site-packages (from streamlit==1.14.0->-r requirements.txt (line 12)) (23.1)\n",
      "Requirement already satisfied: protobuf<4,>=3.12 in c:\\users\\e4roh\\anaconda3\\envs\\augment_hackathon\\lib\\site-packages (from streamlit==1.14.0->-r requirements.txt (line 12)) (3.20.3)\n",
      "Requirement already satisfied: pyarrow>=4.0 in c:\\users\\e4roh\\anaconda3\\envs\\augment_hackathon\\lib\\site-packages (from streamlit==1.14.0->-r requirements.txt (line 12)) (12.0.1)\n",
      "Requirement already satisfied: pympler>=0.9 in c:\\users\\e4roh\\anaconda3\\envs\\augment_hackathon\\lib\\site-packages (from streamlit==1.14.0->-r requirements.txt (line 12)) (1.0.1)\n",
      "Requirement already satisfied: requests>=2.4 in c:\\users\\e4roh\\anaconda3\\envs\\augment_hackathon\\lib\\site-packages (from streamlit==1.14.0->-r requirements.txt (line 12)) (2.31.0)\n",
      "Requirement already satisfied: rich>=10.11.0 in c:\\users\\e4roh\\anaconda3\\envs\\augment_hackathon\\lib\\site-packages (from streamlit==1.14.0->-r requirements.txt (line 12)) (13.4.2)\n",
      "Requirement already satisfied: semver in c:\\users\\e4roh\\anaconda3\\envs\\augment_hackathon\\lib\\site-packages (from streamlit==1.14.0->-r requirements.txt (line 12)) (3.0.1)\n",
      "Requirement already satisfied: toml in c:\\users\\e4roh\\anaconda3\\envs\\augment_hackathon\\lib\\site-packages (from streamlit==1.14.0->-r requirements.txt (line 12)) (0.10.2)\n",
      "Requirement already satisfied: tzlocal>=1.1 in c:\\users\\e4roh\\anaconda3\\envs\\augment_hackathon\\lib\\site-packages (from streamlit==1.14.0->-r requirements.txt (line 12)) (5.0.1)\n",
      "Requirement already satisfied: validators>=0.2 in c:\\users\\e4roh\\anaconda3\\envs\\augment_hackathon\\lib\\site-packages (from streamlit==1.14.0->-r requirements.txt (line 12)) (0.20.0)\n",
      "Requirement already satisfied: gitpython!=3.1.19 in c:\\users\\e4roh\\anaconda3\\envs\\augment_hackathon\\lib\\site-packages (from streamlit==1.14.0->-r requirements.txt (line 12)) (3.1.31)\n",
      "Requirement already satisfied: pydeck>=0.1.dev5 in c:\\users\\e4roh\\anaconda3\\envs\\augment_hackathon\\lib\\site-packages (from streamlit==1.14.0->-r requirements.txt (line 12)) (0.8.1b0)\n",
      "Requirement already satisfied: watchdog in c:\\users\\e4roh\\anaconda3\\envs\\augment_hackathon\\lib\\site-packages (from streamlit==1.14.0->-r requirements.txt (line 12)) (3.0.0)\n",
      "Requirement already satisfied: PyYAML>=5.4.1 in c:\\users\\e4roh\\anaconda3\\envs\\augment_hackathon\\lib\\site-packages (from langchain->-r requirements.txt (line 10)) (6.0)\n",
      "Requirement already satisfied: SQLAlchemy<3,>=1.4 in c:\\users\\e4roh\\anaconda3\\envs\\augment_hackathon\\lib\\site-packages (from langchain->-r requirements.txt (line 10)) (2.0.17)\n",
      "Requirement already satisfied: aiohttp<4.0.0,>=3.8.3 in c:\\users\\e4roh\\anaconda3\\envs\\augment_hackathon\\lib\\site-packages (from langchain->-r requirements.txt (line 10)) (3.8.4)Note: you may need to restart the kernel to use updated packages.\n",
      "Requirement already satisfied: async-timeout<5.0.0,>=4.0.0 in c:\\users\\e4roh\\anaconda3\\envs\\augment_hackathon\\lib\\site-packages (from langchain->-r requirements.txt (line 10)) (4.0.2)\n",
      "\n",
      "Requirement already satisfied: dataclasses-json<0.6.0,>=0.5.7 in c:\\users\\e4roh\\anaconda3\\envs\\augment_hackathon\\lib\\site-packages (from langchain->-r requirements.txt (line 10)) (0.5.8)\n",
      "Requirement already satisfied: langchainplus-sdk>=0.0.17 in c:\\users\\e4roh\\anaconda3\\envs\\augment_hackathon\\lib\\site-packages (from langchain->-r requirements.txt (line 10)) (0.0.17)\n",
      "Requirement already satisfied: numexpr<3.0.0,>=2.8.4 in c:\\users\\e4roh\\anaconda3\\envs\\augment_hackathon\\lib\\site-packages (from langchain->-r requirements.txt (line 10)) (2.8.4)\n",
      "Requirement already satisfied: openapi-schema-pydantic<2.0,>=1.2 in c:\\users\\e4roh\\anaconda3\\envs\\augment_hackathon\\lib\\site-packages (from langchain->-r requirements.txt (line 10)) (1.2.4)\n",
      "Requirement already satisfied: pydantic<2,>=1 in c:\\users\\e4roh\\anaconda3\\envs\\augment_hackathon\\lib\\site-packages (from langchain->-r requirements.txt (line 10)) (1.10.9)\n",
      "Requirement already satisfied: tqdm in c:\\users\\e4roh\\anaconda3\\envs\\augment_hackathon\\lib\\site-packages (from openai->-r requirements.txt (line 11)) (4.65.0)\n",
      "Requirement already satisfied: jsonschema>=3.0 in c:\\users\\e4roh\\anaconda3\\envs\\augment_hackathon\\lib\\site-packages (from altair<5.0.0,>=4.0.0->-r requirements.txt (line 15)) (4.17.3)\n",
      "Requirement already satisfied: toolz in c:\\users\\e4roh\\anaconda3\\envs\\augment_hackathon\\lib\\site-packages (from altair<5.0.0,>=4.0.0->-r requirements.txt (line 15)) (0.12.0)\n",
      "Requirement already satisfied: aiofiles in c:\\users\\e4roh\\anaconda3\\envs\\augment_hackathon\\lib\\site-packages (from gradio->-r requirements.txt (line 16)) (23.1.0)\n",
      "Requirement already satisfied: fastapi in c:\\users\\e4roh\\anaconda3\\envs\\augment_hackathon\\lib\\site-packages (from gradio->-r requirements.txt (line 16)) (0.98.0)\n",
      "Requirement already satisfied: ffmpy in c:\\users\\e4roh\\anaconda3\\envs\\augment_hackathon\\lib\\site-packages (from gradio->-r requirements.txt (line 16)) (0.3.0)\n",
      "Requirement already satisfied: gradio-client>=0.2.7 in c:\\users\\e4roh\\anaconda3\\envs\\augment_hackathon\\lib\\site-packages (from gradio->-r requirements.txt (line 16)) (0.2.7)\n",
      "Requirement already satisfied: httpx in c:\\users\\e4roh\\anaconda3\\envs\\augment_hackathon\\lib\\site-packages (from gradio->-r requirements.txt (line 16)) (0.24.1)\n",
      "Requirement already satisfied: huggingface-hub>=0.14.0 in c:\\users\\e4roh\\anaconda3\\envs\\augment_hackathon\\lib\\site-packages (from gradio->-r requirements.txt (line 16)) (0.15.1)\n",
      "Requirement already satisfied: markdown-it-py[linkify]>=2.0.0 in c:\\users\\e4roh\\anaconda3\\envs\\augment_hackathon\\lib\\site-packages (from gradio->-r requirements.txt (line 16)) (2.2.0)\n",
      "Requirement already satisfied: markupsafe in c:\\users\\e4roh\\anaconda3\\envs\\augment_hackathon\\lib\\site-packages (from gradio->-r requirements.txt (line 16)) (2.1.3)\n",
      "Requirement already satisfied: mdit-py-plugins<=0.3.3 in c:\\users\\e4roh\\anaconda3\\envs\\augment_hackathon\\lib\\site-packages (from gradio->-r requirements.txt (line 16)) (0.3.3)\n",
      "Requirement already satisfied: orjson in c:\\users\\e4roh\\anaconda3\\envs\\augment_hackathon\\lib\\site-packages (from gradio->-r requirements.txt (line 16)) (3.9.1)\n",
      "Requirement already satisfied: pydub in c:\\users\\e4roh\\anaconda3\\envs\\augment_hackathon\\lib\\site-packages (from gradio->-r requirements.txt (line 16)) (0.25.1)\n",
      "Requirement already satisfied: python-multipart in c:\\users\\e4roh\\anaconda3\\envs\\augment_hackathon\\lib\\site-packages (from gradio->-r requirements.txt (line 16)) (0.0.6)\n",
      "Requirement already satisfied: semantic-version in c:\\users\\e4roh\\anaconda3\\envs\\augment_hackathon\\lib\\site-packages (from gradio->-r requirements.txt (line 16)) (2.10.0)\n",
      "Requirement already satisfied: uvicorn>=0.14.0 in c:\\users\\e4roh\\anaconda3\\envs\\augment_hackathon\\lib\\site-packages (from gradio->-r requirements.txt (line 16)) (0.22.0)\n",
      "Requirement already satisfied: websockets>=10.0 in c:\\users\\e4roh\\anaconda3\\envs\\augment_hackathon\\lib\\site-packages (from gradio->-r requirements.txt (line 16)) (11.0.3)\n",
      "Requirement already satisfied: attrs>=17.3.0 in c:\\users\\e4roh\\anaconda3\\envs\\augment_hackathon\\lib\\site-packages (from aiohttp<4.0.0,>=3.8.3->langchain->-r requirements.txt (line 10)) (23.1.0)\n",
      "Requirement already satisfied: charset-normalizer<4.0,>=2.0 in c:\\users\\e4roh\\anaconda3\\envs\\augment_hackathon\\lib\\site-packages (from aiohttp<4.0.0,>=3.8.3->langchain->-r requirements.txt (line 10)) (3.1.0)\n",
      "Requirement already satisfied: multidict<7.0,>=4.5 in c:\\users\\e4roh\\anaconda3\\envs\\augment_hackathon\\lib\\site-packages (from aiohttp<4.0.0,>=3.8.3->langchain->-r requirements.txt (line 10)) (6.0.4)\n",
      "Requirement already satisfied: yarl<2.0,>=1.0 in c:\\users\\e4roh\\anaconda3\\envs\\augment_hackathon\\lib\\site-packages (from aiohttp<4.0.0,>=3.8.3->langchain->-r requirements.txt (line 10)) (1.9.2)\n",
      "Requirement already satisfied: frozenlist>=1.1.1 in c:\\users\\e4roh\\anaconda3\\envs\\augment_hackathon\\lib\\site-packages (from aiohttp<4.0.0,>=3.8.3->langchain->-r requirements.txt (line 10)) (1.3.3)\n",
      "Requirement already satisfied: aiosignal>=1.1.2 in c:\\users\\e4roh\\anaconda3\\envs\\augment_hackathon\\lib\\site-packages (from aiohttp<4.0.0,>=3.8.3->langchain->-r requirements.txt (line 10)) (1.3.1)\n",
      "Requirement already satisfied: colorama in c:\\users\\e4roh\\anaconda3\\envs\\augment_hackathon\\lib\\site-packages (from click>=7.0->streamlit==1.14.0->-r requirements.txt (line 12)) (0.4.6)\n",
      "Requirement already satisfied: marshmallow<4.0.0,>=3.3.0 in c:\\users\\e4roh\\anaconda3\\envs\\augment_hackathon\\lib\\site-packages (from dataclasses-json<0.6.0,>=0.5.7->langchain->-r requirements.txt (line 10)) (3.19.0)\n",
      "Requirement already satisfied: marshmallow-enum<2.0.0,>=1.5.1 in c:\\users\\e4roh\\anaconda3\\envs\\augment_hackathon\\lib\\site-packages (from dataclasses-json<0.6.0,>=0.5.7->langchain->-r requirements.txt (line 10)) (1.5.1)\n",
      "Requirement already satisfied: typing-inspect>=0.4.0 in c:\\users\\e4roh\\anaconda3\\envs\\augment_hackathon\\lib\\site-packages (from dataclasses-json<0.6.0,>=0.5.7->langchain->-r requirements.txt (line 10)) (0.9.0)\n",
      "Requirement already satisfied: gitdb<5,>=4.0.1 in c:\\users\\e4roh\\anaconda3\\envs\\augment_hackathon\\lib\\site-packages (from gitpython!=3.1.19->streamlit==1.14.0->-r requirements.txt (line 12)) (4.0.10)\n",
      "Requirement already satisfied: fsspec in c:\\users\\e4roh\\anaconda3\\envs\\augment_hackathon\\lib\\site-packages (from gradio-client>=0.2.7->gradio->-r requirements.txt (line 16)) (2023.6.0)\n",
      "Requirement already satisfied: filelock in c:\\users\\e4roh\\anaconda3\\envs\\augment_hackathon\\lib\\site-packages (from huggingface-hub>=0.14.0->gradio->-r requirements.txt (line 16)) (3.12.2)\n",
      "Requirement already satisfied: zipp>=0.5 in c:\\users\\e4roh\\anaconda3\\envs\\augment_hackathon\\lib\\site-packages (from importlib-metadata>=1.4->streamlit==1.14.0->-r requirements.txt (line 12)) (3.15.0)\n",
      "Requirement already satisfied: backcall in c:\\users\\e4roh\\anaconda3\\envs\\augment_hackathon\\lib\\site-packages (from ipython>=5.0.0->ipykernel==5.5.3->-r requirements.txt (line 2)) (0.2.0)\n",
      "Requirement already satisfied: decorator in c:\\users\\e4roh\\anaconda3\\envs\\augment_hackathon\\lib\\site-packages (from ipython>=5.0.0->ipykernel==5.5.3->-r requirements.txt (line 2)) (5.1.1)\n",
      "Requirement already satisfied: jedi>=0.16 in c:\\users\\e4roh\\anaconda3\\envs\\augment_hackathon\\lib\\site-packages (from ipython>=5.0.0->ipykernel==5.5.3->-r requirements.txt (line 2)) (0.18.2)\n",
      "Requirement already satisfied: matplotlib-inline in c:\\users\\e4roh\\anaconda3\\envs\\augment_hackathon\\lib\\site-packages (from ipython>=5.0.0->ipykernel==5.5.3->-r requirements.txt (line 2)) (0.1.6)\n",
      "Requirement already satisfied: pickleshare in c:\\users\\e4roh\\anaconda3\\envs\\augment_hackathon\\lib\\site-packages (from ipython>=5.0.0->ipykernel==5.5.3->-r requirements.txt (line 2)) (0.7.5)\n",
      "Requirement already satisfied: prompt-toolkit!=3.0.37,<3.1.0,>=3.0.30 in c:\\users\\e4roh\\anaconda3\\envs\\augment_hackathon\\lib\\site-packages (from ipython>=5.0.0->ipykernel==5.5.3->-r requirements.txt (line 2)) (3.0.38)\n",
      "Requirement already satisfied: stack-data in c:\\users\\e4roh\\anaconda3\\envs\\augment_hackathon\\lib\\site-packages (from ipython>=5.0.0->ipykernel==5.5.3->-r requirements.txt (line 2)) (0.6.2)\n",
      "Requirement already satisfied: pyrsistent!=0.17.0,!=0.17.1,!=0.17.2,>=0.14.0 in c:\\users\\e4roh\\anaconda3\\envs\\augment_hackathon\\lib\\site-packages (from jsonschema>=3.0->altair<5.0.0,>=4.0.0->-r requirements.txt (line 15)) (0.19.3)\n",
      "Requirement already satisfied: mdurl~=0.1 in c:\\users\\e4roh\\anaconda3\\envs\\augment_hackathon\\lib\\site-packages (from markdown-it-py[linkify]>=2.0.0->gradio->-r requirements.txt (line 16)) (0.1.2)\n",
      "Requirement already satisfied: linkify-it-py<3,>=1 in c:\\users\\e4roh\\anaconda3\\envs\\augment_hackathon\\lib\\site-packages (from markdown-it-py[linkify]>=2.0.0->gradio->-r requirements.txt (line 16)) (2.0.2)\n",
      "Requirement already satisfied: fastjsonschema in c:\\users\\e4roh\\anaconda3\\envs\\augment_hackathon\\lib\\site-packages (from nbformat>=4.2.0->ipywidgets==7.6.3->-r requirements.txt (line 7)) (2.17.1)\n",
      "Requirement already satisfied: pytz>=2020.1 in c:\\users\\e4roh\\anaconda3\\envs\\augment_hackathon\\lib\\site-packages (from pandas<2.0.0,>=1.0.0->radcad==0.8.4->-r requirements.txt (line 1)) (2023.3)\n",
      "Requirement already satisfied: ppft>=1.7.6.5 in c:\\users\\e4roh\\anaconda3\\envs\\augment_hackathon\\lib\\site-packages (from pathos<0.3.0,>=0.2.7->radcad==0.8.4->-r requirements.txt (line 1)) (1.7.6.6)\n",
      "Requirement already satisfied: dill>=0.3.5.1 in c:\\users\\e4roh\\anaconda3\\envs\\augment_hackathon\\lib\\site-packages (from pathos<0.3.0,>=0.2.7->radcad==0.8.4->-r requirements.txt (line 1)) (0.3.6)\n",
      "Requirement already satisfied: pox>=0.3.1 in c:\\users\\e4roh\\anaconda3\\envs\\augment_hackathon\\lib\\site-packages (from pathos<0.3.0,>=0.2.7->radcad==0.8.4->-r requirements.txt (line 1)) (0.3.2)\n",
      "Requirement already satisfied: multiprocess>=0.70.13 in c:\\users\\e4roh\\anaconda3\\envs\\augment_hackathon\\lib\\site-packages (from pathos<0.3.0,>=0.2.7->radcad==0.8.4->-r requirements.txt (line 1)) (0.70.14)\n",
      "Requirement already satisfied: idna<4,>=2.5 in c:\\users\\e4roh\\anaconda3\\envs\\augment_hackathon\\lib\\site-packages (from requests>=2.4->streamlit==1.14.0->-r requirements.txt (line 12)) (3.4)\n",
      "Requirement already satisfied: urllib3<3,>=1.21.1 in c:\\users\\e4roh\\anaconda3\\envs\\augment_hackathon\\lib\\site-packages (from requests>=2.4->streamlit==1.14.0->-r requirements.txt (line 12)) (2.0.3)\n",
      "Requirement already satisfied: certifi>=2017.4.17 in c:\\users\\e4roh\\anaconda3\\envs\\augment_hackathon\\lib\\site-packages (from requests>=2.4->streamlit==1.14.0->-r requirements.txt (line 12)) (2023.5.7)\n",
      "Requirement already satisfied: greenlet!=0.4.17 in c:\\users\\e4roh\\anaconda3\\envs\\augment_hackathon\\lib\\site-packages (from SQLAlchemy<3,>=1.4->langchain->-r requirements.txt (line 10)) (2.0.2)\n",
      "Requirement already satisfied: tzdata in c:\\users\\e4roh\\anaconda3\\envs\\augment_hackathon\\lib\\site-packages (from tzlocal>=1.1->streamlit==1.14.0->-r requirements.txt (line 12)) (2023.3)\n",
      "Requirement already satisfied: h11>=0.8 in c:\\users\\e4roh\\anaconda3\\envs\\augment_hackathon\\lib\\site-packages (from uvicorn>=0.14.0->gradio->-r requirements.txt (line 16)) (0.14.0)\n",
      "Requirement already satisfied: notebook>=4.4.1 in c:\\users\\e4roh\\anaconda3\\envs\\augment_hackathon\\lib\\site-packages (from widgetsnbextension~=3.5.0->ipywidgets==7.6.3->-r requirements.txt (line 7)) (6.5.4)\n",
      "Requirement already satisfied: webencodings in c:\\users\\e4roh\\anaconda3\\envs\\augment_hackathon\\lib\\site-packages (from bleach->nbconvert==5.6.1->-r requirements.txt (line 8)) (0.5.1)\n",
      "Requirement already satisfied: fn in c:\\users\\e4roh\\anaconda3\\envs\\augment_hackathon\\lib\\site-packages (from cadCAD->cadCAD_tools==0.0.1.4->-r requirements.txt (line 9)) (0.4.3)\n",
      "Requirement already satisfied: funcy in c:\\users\\e4roh\\anaconda3\\envs\\augment_hackathon\\lib\\site-packages (from cadCAD->cadCAD_tools==0.0.1.4->-r requirements.txt (line 9)) (2.0)\n",
      "Requirement already satisfied: starlette<0.28.0,>=0.27.0 in c:\\users\\e4roh\\anaconda3\\envs\\augment_hackathon\\lib\\site-packages (from fastapi->gradio->-r requirements.txt (line 16)) (0.27.0)\n",
      "Requirement already satisfied: httpcore<0.18.0,>=0.15.0 in c:\\users\\e4roh\\anaconda3\\envs\\augment_hackathon\\lib\\site-packages (from httpx->gradio->-r requirements.txt (line 16)) (0.17.2)\n",
      "Requirement already satisfied: sniffio in c:\\users\\e4roh\\anaconda3\\envs\\augment_hackathon\\lib\\site-packages (from httpx->gradio->-r requirements.txt (line 16)) (1.3.0)\n",
      "Requirement already satisfied: pyzmq>=23.0 in c:\\users\\e4roh\\anaconda3\\envs\\augment_hackathon\\lib\\site-packages (from jupyter-client->ipykernel==5.5.3->-r requirements.txt (line 2)) (25.1.0)\n",
      "Requirement already satisfied: platformdirs>=2.5 in c:\\users\\e4roh\\anaconda3\\envs\\augment_hackathon\\lib\\site-packages (from jupyter-core->nbconvert==5.6.1->-r requirements.txt (line 8)) (3.8.0)\n",
      "Requirement already satisfied: pywin32>=300 in c:\\users\\e4roh\\anaconda3\\envs\\augment_hackathon\\lib\\site-packages (from jupyter-core->nbconvert==5.6.1->-r requirements.txt (line 8)) (305.1)\n",
      "Requirement already satisfied: smmap<6,>=3.0.1 in c:\\users\\e4roh\\anaconda3\\envs\\augment_hackathon\\lib\\site-packages (from gitdb<5,>=4.0.1->gitpython!=3.1.19->streamlit==1.14.0->-r requirements.txt (line 12)) (5.0.0)\n",
      "Requirement already satisfied: anyio<5.0,>=3.0 in c:\\users\\e4roh\\anaconda3\\envs\\augment_hackathon\\lib\\site-packages (from httpcore<0.18.0,>=0.15.0->httpx->gradio->-r requirements.txt (line 16)) (3.7.0)\n",
      "Requirement already satisfied: parso<0.9.0,>=0.8.0 in c:\\users\\e4roh\\anaconda3\\envs\\augment_hackathon\\lib\\site-packages (from jedi>=0.16->ipython>=5.0.0->ipykernel==5.5.3->-r requirements.txt (line 2)) (0.8.3)\n",
      "Requirement already satisfied: uc-micro-py in c:\\users\\e4roh\\anaconda3\\envs\\augment_hackathon\\lib\\site-packages (from linkify-it-py<3,>=1->markdown-it-py[linkify]>=2.0.0->gradio->-r requirements.txt (line 16)) (1.0.2)\n",
      "Requirement already satisfied: argon2-cffi in c:\\users\\e4roh\\anaconda3\\envs\\augment_hackathon\\lib\\site-packages (from notebook>=4.4.1->widgetsnbextension~=3.5.0->ipywidgets==7.6.3->-r requirements.txt (line 7)) (21.3.0)\n",
      "Requirement already satisfied: ipython-genutils in c:\\users\\e4roh\\anaconda3\\envs\\augment_hackathon\\lib\\site-packages (from notebook>=4.4.1->widgetsnbextension~=3.5.0->ipywidgets==7.6.3->-r requirements.txt (line 7)) (0.2.0)\n",
      "Requirement already satisfied: nest-asyncio>=1.5 in c:\\users\\e4roh\\anaconda3\\envs\\augment_hackathon\\lib\\site-packages (from notebook>=4.4.1->widgetsnbextension~=3.5.0->ipywidgets==7.6.3->-r requirements.txt (line 7)) (1.5.6)\n",
      "Requirement already satisfied: Send2Trash>=1.8.0 in c:\\users\\e4roh\\anaconda3\\envs\\augment_hackathon\\lib\\site-packages (from notebook>=4.4.1->widgetsnbextension~=3.5.0->ipywidgets==7.6.3->-r requirements.txt (line 7)) (1.8.2)\n",
      "Requirement already satisfied: terminado>=0.8.3 in c:\\users\\e4roh\\anaconda3\\envs\\augment_hackathon\\lib\\site-packages (from notebook>=4.4.1->widgetsnbextension~=3.5.0->ipywidgets==7.6.3->-r requirements.txt (line 7)) (0.17.1)\n",
      "Requirement already satisfied: prometheus-client in c:\\users\\e4roh\\anaconda3\\envs\\augment_hackathon\\lib\\site-packages (from notebook>=4.4.1->widgetsnbextension~=3.5.0->ipywidgets==7.6.3->-r requirements.txt (line 7)) (0.17.0)\n",
      "Requirement already satisfied: nbclassic>=0.4.7 in c:\\users\\e4roh\\anaconda3\\envs\\augment_hackathon\\lib\\site-packages (from notebook>=4.4.1->widgetsnbextension~=3.5.0->ipywidgets==7.6.3->-r requirements.txt (line 7)) (1.0.0)\n",
      "Requirement already satisfied: wcwidth in c:\\users\\e4roh\\anaconda3\\envs\\augment_hackathon\\lib\\site-packages (from prompt-toolkit!=3.0.37,<3.1.0,>=3.0.30->ipython>=5.0.0->ipykernel==5.5.3->-r requirements.txt (line 2)) (0.2.6)\n",
      "Requirement already satisfied: mypy-extensions>=0.3.0 in c:\\users\\e4roh\\anaconda3\\envs\\augment_hackathon\\lib\\site-packages (from typing-inspect>=0.4.0->dataclasses-json<0.6.0,>=0.5.7->langchain->-r requirements.txt (line 10)) (1.0.0)\n",
      "Requirement already satisfied: executing>=1.2.0 in c:\\users\\e4roh\\anaconda3\\envs\\augment_hackathon\\lib\\site-packages (from stack-data->ipython>=5.0.0->ipykernel==5.5.3->-r requirements.txt (line 2)) (1.2.0)\n",
      "Requirement already satisfied: asttokens>=2.1.0 in c:\\users\\e4roh\\anaconda3\\envs\\augment_hackathon\\lib\\site-packages (from stack-data->ipython>=5.0.0->ipykernel==5.5.3->-r requirements.txt (line 2)) (2.2.1)\n",
      "Requirement already satisfied: pure-eval in c:\\users\\e4roh\\anaconda3\\envs\\augment_hackathon\\lib\\site-packages (from stack-data->ipython>=5.0.0->ipykernel==5.5.3->-r requirements.txt (line 2)) (0.2.2)\n",
      "Requirement already satisfied: exceptiongroup in c:\\users\\e4roh\\anaconda3\\envs\\augment_hackathon\\lib\\site-packages (from anyio<5.0,>=3.0->httpcore<0.18.0,>=0.15.0->httpx->gradio->-r requirements.txt (line 16)) (1.1.1)\n",
      "Requirement already satisfied: jupyter-server>=1.8 in c:\\users\\e4roh\\anaconda3\\envs\\augment_hackathon\\lib\\site-packages (from nbclassic>=0.4.7->notebook>=4.4.1->widgetsnbextension~=3.5.0->ipywidgets==7.6.3->-r requirements.txt (line 7)) (1.15.6)\n",
      "Requirement already satisfied: notebook-shim>=0.2.3 in c:\\users\\e4roh\\anaconda3\\envs\\augment_hackathon\\lib\\site-packages (from nbclassic>=0.4.7->notebook>=4.4.1->widgetsnbextension~=3.5.0->ipywidgets==7.6.3->-r requirements.txt (line 7)) (0.2.3)\n",
      "Requirement already satisfied: pywinpty>=1.1.0 in c:\\users\\e4roh\\anaconda3\\envs\\augment_hackathon\\lib\\site-packages (from terminado>=0.8.3->notebook>=4.4.1->widgetsnbextension~=3.5.0->ipywidgets==7.6.3->-r requirements.txt (line 7)) (2.0.10)\n",
      "Requirement already satisfied: argon2-cffi-bindings in c:\\users\\e4roh\\anaconda3\\envs\\augment_hackathon\\lib\\site-packages (from argon2-cffi->notebook>=4.4.1->widgetsnbextension~=3.5.0->ipywidgets==7.6.3->-r requirements.txt (line 7)) (21.2.0)\n",
      "Requirement already satisfied: websocket-client in c:\\users\\e4roh\\anaconda3\\envs\\augment_hackathon\\lib\\site-packages (from jupyter-server>=1.8->nbclassic>=0.4.7->notebook>=4.4.1->widgetsnbextension~=3.5.0->ipywidgets==7.6.3->-r requirements.txt (line 7)) (1.6.1)\n",
      "Requirement already satisfied: cffi>=1.0.1 in c:\\users\\e4roh\\anaconda3\\envs\\augment_hackathon\\lib\\site-packages (from argon2-cffi-bindings->argon2-cffi->notebook>=4.4.1->widgetsnbextension~=3.5.0->ipywidgets==7.6.3->-r requirements.txt (line 7)) (1.15.1)\n",
      "Requirement already satisfied: pycparser in c:\\users\\e4roh\\anaconda3\\envs\\augment_hackathon\\lib\\site-packages (from cffi>=1.0.1->argon2-cffi-bindings->argon2-cffi->notebook>=4.4.1->widgetsnbextension~=3.5.0->ipywidgets==7.6.3->-r requirements.txt (line 7)) (2.21)\n"
     ]
    }
   ],
   "source": [
    "%pip install -r requirements.txt"
   ]
  },
  {
   "cell_type": "code",
   "execution_count": 3,
   "metadata": {},
   "outputs": [
    {
     "name": "stdout",
     "output_type": "stream",
     "text": [
      "Name: radcad\n",
      "Version: 0.8.4\n",
      "Summary: A Python package for dynamical systems modelling & simulation, inspired by and compatible with cadCAD\n",
      "Home-page: \n",
      "Author: CADLabs\n",
      "Author-email: benschza@users.noreply.github.com\n",
      "License: \n",
      "Location: c:\\users\\e4roh\\anaconda3\\envs\\augment_hackathon\\lib\\site-packages\n",
      "Requires: pandas, pathos\n",
      "Required-by: \n",
      "Note: you may need to restart the kernel to use updated packages.\n"
     ]
    }
   ],
   "source": [
    "%pip show radcad"
   ]
  },
  {
   "cell_type": "code",
   "execution_count": 4,
   "metadata": {},
   "outputs": [
    {
     "data": {
      "application/vnd.plotly.v1+json": {
       "config": {
        "plotlyServerURL": "https://plot.ly"
       },
       "data": [
        {
         "hovertemplate": "x=%{x}<br>y=%{y}<extra></extra>",
         "legendgroup": "",
         "line": {
          "color": "#636efa",
          "dash": "solid"
         },
         "mode": "lines",
         "name": "",
         "orientation": "v",
         "showlegend": false,
         "type": "scatter",
         "x": [
          0,
          1,
          2
         ],
         "xaxis": "x",
         "y": [
          0,
          1,
          2
         ],
         "yaxis": "y"
        }
       ],
       "layout": {
        "legend": {
         "tracegroupgap": 0
        },
        "margin": {
         "t": 60
        },
        "template": {
         "data": {
          "bar": [
           {
            "error_x": {
             "color": "#2a3f5f"
            },
            "error_y": {
             "color": "#2a3f5f"
            },
            "marker": {
             "line": {
              "color": "#E5ECF6",
              "width": 0.5
             },
             "pattern": {
              "fillmode": "overlay",
              "size": 10,
              "solidity": 0.2
             }
            },
            "type": "bar"
           }
          ],
          "barpolar": [
           {
            "marker": {
             "line": {
              "color": "#E5ECF6",
              "width": 0.5
             },
             "pattern": {
              "fillmode": "overlay",
              "size": 10,
              "solidity": 0.2
             }
            },
            "type": "barpolar"
           }
          ],
          "carpet": [
           {
            "aaxis": {
             "endlinecolor": "#2a3f5f",
             "gridcolor": "white",
             "linecolor": "white",
             "minorgridcolor": "white",
             "startlinecolor": "#2a3f5f"
            },
            "baxis": {
             "endlinecolor": "#2a3f5f",
             "gridcolor": "white",
             "linecolor": "white",
             "minorgridcolor": "white",
             "startlinecolor": "#2a3f5f"
            },
            "type": "carpet"
           }
          ],
          "choropleth": [
           {
            "colorbar": {
             "outlinewidth": 0,
             "ticks": ""
            },
            "type": "choropleth"
           }
          ],
          "contour": [
           {
            "colorbar": {
             "outlinewidth": 0,
             "ticks": ""
            },
            "colorscale": [
             [
              0,
              "#0d0887"
             ],
             [
              0.1111111111111111,
              "#46039f"
             ],
             [
              0.2222222222222222,
              "#7201a8"
             ],
             [
              0.3333333333333333,
              "#9c179e"
             ],
             [
              0.4444444444444444,
              "#bd3786"
             ],
             [
              0.5555555555555556,
              "#d8576b"
             ],
             [
              0.6666666666666666,
              "#ed7953"
             ],
             [
              0.7777777777777778,
              "#fb9f3a"
             ],
             [
              0.8888888888888888,
              "#fdca26"
             ],
             [
              1,
              "#f0f921"
             ]
            ],
            "type": "contour"
           }
          ],
          "contourcarpet": [
           {
            "colorbar": {
             "outlinewidth": 0,
             "ticks": ""
            },
            "type": "contourcarpet"
           }
          ],
          "heatmap": [
           {
            "colorbar": {
             "outlinewidth": 0,
             "ticks": ""
            },
            "colorscale": [
             [
              0,
              "#0d0887"
             ],
             [
              0.1111111111111111,
              "#46039f"
             ],
             [
              0.2222222222222222,
              "#7201a8"
             ],
             [
              0.3333333333333333,
              "#9c179e"
             ],
             [
              0.4444444444444444,
              "#bd3786"
             ],
             [
              0.5555555555555556,
              "#d8576b"
             ],
             [
              0.6666666666666666,
              "#ed7953"
             ],
             [
              0.7777777777777778,
              "#fb9f3a"
             ],
             [
              0.8888888888888888,
              "#fdca26"
             ],
             [
              1,
              "#f0f921"
             ]
            ],
            "type": "heatmap"
           }
          ],
          "heatmapgl": [
           {
            "colorbar": {
             "outlinewidth": 0,
             "ticks": ""
            },
            "colorscale": [
             [
              0,
              "#0d0887"
             ],
             [
              0.1111111111111111,
              "#46039f"
             ],
             [
              0.2222222222222222,
              "#7201a8"
             ],
             [
              0.3333333333333333,
              "#9c179e"
             ],
             [
              0.4444444444444444,
              "#bd3786"
             ],
             [
              0.5555555555555556,
              "#d8576b"
             ],
             [
              0.6666666666666666,
              "#ed7953"
             ],
             [
              0.7777777777777778,
              "#fb9f3a"
             ],
             [
              0.8888888888888888,
              "#fdca26"
             ],
             [
              1,
              "#f0f921"
             ]
            ],
            "type": "heatmapgl"
           }
          ],
          "histogram": [
           {
            "marker": {
             "pattern": {
              "fillmode": "overlay",
              "size": 10,
              "solidity": 0.2
             }
            },
            "type": "histogram"
           }
          ],
          "histogram2d": [
           {
            "colorbar": {
             "outlinewidth": 0,
             "ticks": ""
            },
            "colorscale": [
             [
              0,
              "#0d0887"
             ],
             [
              0.1111111111111111,
              "#46039f"
             ],
             [
              0.2222222222222222,
              "#7201a8"
             ],
             [
              0.3333333333333333,
              "#9c179e"
             ],
             [
              0.4444444444444444,
              "#bd3786"
             ],
             [
              0.5555555555555556,
              "#d8576b"
             ],
             [
              0.6666666666666666,
              "#ed7953"
             ],
             [
              0.7777777777777778,
              "#fb9f3a"
             ],
             [
              0.8888888888888888,
              "#fdca26"
             ],
             [
              1,
              "#f0f921"
             ]
            ],
            "type": "histogram2d"
           }
          ],
          "histogram2dcontour": [
           {
            "colorbar": {
             "outlinewidth": 0,
             "ticks": ""
            },
            "colorscale": [
             [
              0,
              "#0d0887"
             ],
             [
              0.1111111111111111,
              "#46039f"
             ],
             [
              0.2222222222222222,
              "#7201a8"
             ],
             [
              0.3333333333333333,
              "#9c179e"
             ],
             [
              0.4444444444444444,
              "#bd3786"
             ],
             [
              0.5555555555555556,
              "#d8576b"
             ],
             [
              0.6666666666666666,
              "#ed7953"
             ],
             [
              0.7777777777777778,
              "#fb9f3a"
             ],
             [
              0.8888888888888888,
              "#fdca26"
             ],
             [
              1,
              "#f0f921"
             ]
            ],
            "type": "histogram2dcontour"
           }
          ],
          "mesh3d": [
           {
            "colorbar": {
             "outlinewidth": 0,
             "ticks": ""
            },
            "type": "mesh3d"
           }
          ],
          "parcoords": [
           {
            "line": {
             "colorbar": {
              "outlinewidth": 0,
              "ticks": ""
             }
            },
            "type": "parcoords"
           }
          ],
          "pie": [
           {
            "automargin": true,
            "type": "pie"
           }
          ],
          "scatter": [
           {
            "marker": {
             "colorbar": {
              "outlinewidth": 0,
              "ticks": ""
             }
            },
            "type": "scatter"
           }
          ],
          "scatter3d": [
           {
            "line": {
             "colorbar": {
              "outlinewidth": 0,
              "ticks": ""
             }
            },
            "marker": {
             "colorbar": {
              "outlinewidth": 0,
              "ticks": ""
             }
            },
            "type": "scatter3d"
           }
          ],
          "scattercarpet": [
           {
            "marker": {
             "colorbar": {
              "outlinewidth": 0,
              "ticks": ""
             }
            },
            "type": "scattercarpet"
           }
          ],
          "scattergeo": [
           {
            "marker": {
             "colorbar": {
              "outlinewidth": 0,
              "ticks": ""
             }
            },
            "type": "scattergeo"
           }
          ],
          "scattergl": [
           {
            "marker": {
             "colorbar": {
              "outlinewidth": 0,
              "ticks": ""
             }
            },
            "type": "scattergl"
           }
          ],
          "scattermapbox": [
           {
            "marker": {
             "colorbar": {
              "outlinewidth": 0,
              "ticks": ""
             }
            },
            "type": "scattermapbox"
           }
          ],
          "scatterpolar": [
           {
            "marker": {
             "colorbar": {
              "outlinewidth": 0,
              "ticks": ""
             }
            },
            "type": "scatterpolar"
           }
          ],
          "scatterpolargl": [
           {
            "marker": {
             "colorbar": {
              "outlinewidth": 0,
              "ticks": ""
             }
            },
            "type": "scatterpolargl"
           }
          ],
          "scatterternary": [
           {
            "marker": {
             "colorbar": {
              "outlinewidth": 0,
              "ticks": ""
             }
            },
            "type": "scatterternary"
           }
          ],
          "surface": [
           {
            "colorbar": {
             "outlinewidth": 0,
             "ticks": ""
            },
            "colorscale": [
             [
              0,
              "#0d0887"
             ],
             [
              0.1111111111111111,
              "#46039f"
             ],
             [
              0.2222222222222222,
              "#7201a8"
             ],
             [
              0.3333333333333333,
              "#9c179e"
             ],
             [
              0.4444444444444444,
              "#bd3786"
             ],
             [
              0.5555555555555556,
              "#d8576b"
             ],
             [
              0.6666666666666666,
              "#ed7953"
             ],
             [
              0.7777777777777778,
              "#fb9f3a"
             ],
             [
              0.8888888888888888,
              "#fdca26"
             ],
             [
              1,
              "#f0f921"
             ]
            ],
            "type": "surface"
           }
          ],
          "table": [
           {
            "cells": {
             "fill": {
              "color": "#EBF0F8"
             },
             "line": {
              "color": "white"
             }
            },
            "header": {
             "fill": {
              "color": "#C8D4E3"
             },
             "line": {
              "color": "white"
             }
            },
            "type": "table"
           }
          ]
         },
         "layout": {
          "annotationdefaults": {
           "arrowcolor": "#2a3f5f",
           "arrowhead": 0,
           "arrowwidth": 1
          },
          "autotypenumbers": "strict",
          "coloraxis": {
           "colorbar": {
            "outlinewidth": 0,
            "ticks": ""
           }
          },
          "colorscale": {
           "diverging": [
            [
             0,
             "#8e0152"
            ],
            [
             0.1,
             "#c51b7d"
            ],
            [
             0.2,
             "#de77ae"
            ],
            [
             0.3,
             "#f1b6da"
            ],
            [
             0.4,
             "#fde0ef"
            ],
            [
             0.5,
             "#f7f7f7"
            ],
            [
             0.6,
             "#e6f5d0"
            ],
            [
             0.7,
             "#b8e186"
            ],
            [
             0.8,
             "#7fbc41"
            ],
            [
             0.9,
             "#4d9221"
            ],
            [
             1,
             "#276419"
            ]
           ],
           "sequential": [
            [
             0,
             "#0d0887"
            ],
            [
             0.1111111111111111,
             "#46039f"
            ],
            [
             0.2222222222222222,
             "#7201a8"
            ],
            [
             0.3333333333333333,
             "#9c179e"
            ],
            [
             0.4444444444444444,
             "#bd3786"
            ],
            [
             0.5555555555555556,
             "#d8576b"
            ],
            [
             0.6666666666666666,
             "#ed7953"
            ],
            [
             0.7777777777777778,
             "#fb9f3a"
            ],
            [
             0.8888888888888888,
             "#fdca26"
            ],
            [
             1,
             "#f0f921"
            ]
           ],
           "sequentialminus": [
            [
             0,
             "#0d0887"
            ],
            [
             0.1111111111111111,
             "#46039f"
            ],
            [
             0.2222222222222222,
             "#7201a8"
            ],
            [
             0.3333333333333333,
             "#9c179e"
            ],
            [
             0.4444444444444444,
             "#bd3786"
            ],
            [
             0.5555555555555556,
             "#d8576b"
            ],
            [
             0.6666666666666666,
             "#ed7953"
            ],
            [
             0.7777777777777778,
             "#fb9f3a"
            ],
            [
             0.8888888888888888,
             "#fdca26"
            ],
            [
             1,
             "#f0f921"
            ]
           ]
          },
          "colorway": [
           "#636efa",
           "#EF553B",
           "#00cc96",
           "#ab63fa",
           "#FFA15A",
           "#19d3f3",
           "#FF6692",
           "#B6E880",
           "#FF97FF",
           "#FECB52"
          ],
          "font": {
           "color": "#2a3f5f"
          },
          "geo": {
           "bgcolor": "white",
           "lakecolor": "white",
           "landcolor": "#E5ECF6",
           "showlakes": true,
           "showland": true,
           "subunitcolor": "white"
          },
          "hoverlabel": {
           "align": "left"
          },
          "hovermode": "closest",
          "mapbox": {
           "style": "light"
          },
          "paper_bgcolor": "white",
          "plot_bgcolor": "#E5ECF6",
          "polar": {
           "angularaxis": {
            "gridcolor": "white",
            "linecolor": "white",
            "ticks": ""
           },
           "bgcolor": "#E5ECF6",
           "radialaxis": {
            "gridcolor": "white",
            "linecolor": "white",
            "ticks": ""
           }
          },
          "scene": {
           "xaxis": {
            "backgroundcolor": "#E5ECF6",
            "gridcolor": "white",
            "gridwidth": 2,
            "linecolor": "white",
            "showbackground": true,
            "ticks": "",
            "zerolinecolor": "white"
           },
           "yaxis": {
            "backgroundcolor": "#E5ECF6",
            "gridcolor": "white",
            "gridwidth": 2,
            "linecolor": "white",
            "showbackground": true,
            "ticks": "",
            "zerolinecolor": "white"
           },
           "zaxis": {
            "backgroundcolor": "#E5ECF6",
            "gridcolor": "white",
            "gridwidth": 2,
            "linecolor": "white",
            "showbackground": true,
            "ticks": "",
            "zerolinecolor": "white"
           }
          },
          "shapedefaults": {
           "line": {
            "color": "#2a3f5f"
           }
          },
          "ternary": {
           "aaxis": {
            "gridcolor": "white",
            "linecolor": "white",
            "ticks": ""
           },
           "baxis": {
            "gridcolor": "white",
            "linecolor": "white",
            "ticks": ""
           },
           "bgcolor": "#E5ECF6",
           "caxis": {
            "gridcolor": "white",
            "linecolor": "white",
            "ticks": ""
           }
          },
          "title": {
           "x": 0.05
          },
          "xaxis": {
           "automargin": true,
           "gridcolor": "white",
           "linecolor": "white",
           "ticks": "",
           "title": {
            "standoff": 15
           },
           "zerolinecolor": "white",
           "zerolinewidth": 2
          },
          "yaxis": {
           "automargin": true,
           "gridcolor": "white",
           "linecolor": "white",
           "ticks": "",
           "title": {
            "standoff": 15
           },
           "zerolinecolor": "white",
           "zerolinewidth": 2
          }
         }
        },
        "xaxis": {
         "anchor": "y",
         "domain": [
          0,
          1
         ],
         "title": {
          "text": "x"
         }
        },
        "yaxis": {
         "anchor": "x",
         "domain": [
          0,
          1
         ],
         "title": {
          "text": "y"
         }
        }
       }
      }
     },
     "metadata": {},
     "output_type": "display_data"
    }
   ],
   "source": [
    "import radcad\n",
    "import plotly.express as px\n",
    "\n",
    "px.line(x=[0, 1, 2], y=[0, 1, 2])"
   ]
  },
  {
   "cell_type": "code",
   "execution_count": 9,
   "metadata": {},
   "outputs": [
    {
     "name": "stdout",
     "output_type": "stream",
     "text": [
      "Name: streamlit\n",
      "Version: 1.14.0\n",
      "Summary: The fastest way to build data apps in Python\n",
      "Home-page: https://streamlit.io\n",
      "Author: Snowflake Inc\n",
      "Author-email: hello@streamlit.io\n",
      "License: Apache License 2.0\n",
      "Location: c:\\users\\e4roh\\anaconda3\\envs\\te_gpt2\\lib\\site-packages\n",
      "Requires: altair, blinker, cachetools, click, gitpython, importlib-metadata, numpy, packaging, pandas, pillow, protobuf, pyarrow, pydeck, pympler, python-dateutil, requests, rich, semver, toml, tornado, typing-extensions, tzlocal, validators, watchdog\n",
      "Required-by: streamlit-chat\n",
      "Note: you may need to restart the kernel to use updated packages.\n"
     ]
    }
   ],
   "source": [
    "%pip show streamlit"
   ]
  },
  {
   "cell_type": "code",
   "execution_count": 10,
   "metadata": {},
   "outputs": [
    {
     "name": "stdout",
     "output_type": "stream",
     "text": [
      "Name: plotly\n",
      "Version: 5.1.0\n",
      "Summary: An open-source, interactive data visualization library for Python\n",
      "Home-page: https://plotly.com/python/\n",
      "Author: Chris P\n",
      "Author-email: chris@plot.ly\n",
      "License: MIT\n",
      "Location: c:\\users\\e4roh\\anaconda3\\envs\\te_gpt2\\lib\\site-packages\n",
      "Requires: six, tenacity\n",
      "Required-by: \n",
      "Note: you may need to restart the kernel to use updated packages.\n"
     ]
    }
   ],
   "source": [
    "%pip show plotly"
   ]
  },
  {
   "cell_type": "code",
   "execution_count": 1,
   "metadata": {},
   "outputs": [
    {
     "name": "stdout",
     "output_type": "stream",
     "text": [
      "Collecting gradio\n",
      "  Downloading gradio-3.35.2-py3-none-any.whl (19.7 MB)\n",
      "     ---------------------------------------- 19.7/19.7 MB 5.8 MB/s eta 0:00:00\n",
      "Collecting aiofiles (from gradio)\n",
      "  Using cached aiofiles-23.1.0-py3-none-any.whl (14 kB)\n",
      "Requirement already satisfied: aiohttp in c:\\users\\e4roh\\anaconda3\\envs\\te_gpt2\\lib\\site-packages (from gradio) (3.8.4)\n",
      "Requirement already satisfied: altair>=4.2.0 in c:\\users\\e4roh\\anaconda3\\envs\\te_gpt2\\lib\\site-packages (from gradio) (4.2.2)\n",
      "Collecting fastapi (from gradio)\n",
      "  Using cached fastapi-0.98.0-py3-none-any.whl (56 kB)\n",
      "Collecting ffmpy (from gradio)\n",
      "  Using cached ffmpy-0.3.0-py3-none-any.whl\n",
      "Collecting gradio-client>=0.2.7 (from gradio)\n",
      "  Downloading gradio_client-0.2.7-py3-none-any.whl (288 kB)\n",
      "     -------------------------------------- 288.4/288.4 kB 5.9 MB/s eta 0:00:00\n",
      "Collecting httpx (from gradio)\n",
      "  Downloading httpx-0.24.1-py3-none-any.whl (75 kB)\n",
      "     ---------------------------------------- 75.4/75.4 kB ? eta 0:00:00\n",
      "Collecting huggingface-hub>=0.14.0 (from gradio)\n",
      "  Downloading huggingface_hub-0.15.1-py3-none-any.whl (236 kB)\n",
      "     -------------------------------------- 236.8/236.8 kB 4.8 MB/s eta 0:00:00\n",
      "Requirement already satisfied: jinja2 in c:\\users\\e4roh\\anaconda3\\envs\\te_gpt2\\lib\\site-packages (from gradio) (3.1.2)\n",
      "Requirement already satisfied: markdown-it-py[linkify]>=2.0.0 in c:\\users\\e4roh\\anaconda3\\envs\\te_gpt2\\lib\\site-packages (from gradio) (3.0.0)\n",
      "Requirement already satisfied: markupsafe in c:\\users\\e4roh\\anaconda3\\envs\\te_gpt2\\lib\\site-packages (from gradio) (2.1.3)\n",
      "Requirement already satisfied: matplotlib in c:\\users\\e4roh\\anaconda3\\envs\\te_gpt2\\lib\\site-packages (from gradio) (3.3.4)\n",
      "Collecting mdit-py-plugins<=0.3.3 (from gradio)\n",
      "  Using cached mdit_py_plugins-0.3.3-py3-none-any.whl (50 kB)\n",
      "Requirement already satisfied: numpy in c:\\users\\e4roh\\anaconda3\\envs\\te_gpt2\\lib\\site-packages (from gradio) (1.25.0)\n",
      "Collecting orjson (from gradio)\n",
      "  Using cached orjson-3.9.1-cp39-none-win_amd64.whl (191 kB)\n",
      "Requirement already satisfied: pandas in c:\\users\\e4roh\\anaconda3\\envs\\te_gpt2\\lib\\site-packages (from gradio) (1.5.3)\n",
      "Requirement already satisfied: pillow in c:\\users\\e4roh\\anaconda3\\envs\\te_gpt2\\lib\\site-packages (from gradio) (9.5.0)\n",
      "Requirement already satisfied: pydantic in c:\\users\\e4roh\\anaconda3\\envs\\te_gpt2\\lib\\site-packages (from gradio) (1.10.9)\n",
      "Collecting pydub (from gradio)\n",
      "  Using cached pydub-0.25.1-py2.py3-none-any.whl (32 kB)\n",
      "Requirement already satisfied: pygments>=2.12.0 in c:\\users\\e4roh\\anaconda3\\envs\\te_gpt2\\lib\\site-packages (from gradio) (2.15.1)\n",
      "Collecting python-multipart (from gradio)\n",
      "  Using cached python_multipart-0.0.6-py3-none-any.whl (45 kB)\n",
      "Requirement already satisfied: pyyaml in c:\\users\\e4roh\\anaconda3\\envs\\te_gpt2\\lib\\site-packages (from gradio) (6.0)\n",
      "Requirement already satisfied: requests in c:\\users\\e4roh\\anaconda3\\envs\\te_gpt2\\lib\\site-packages (from gradio) (2.31.0)\n",
      "Collecting semantic-version (from gradio)\n",
      "  Using cached semantic_version-2.10.0-py2.py3-none-any.whl (15 kB)\n",
      "Collecting uvicorn>=0.14.0 (from gradio)\n",
      "  Using cached uvicorn-0.22.0-py3-none-any.whl (58 kB)\n",
      "Collecting websockets>=10.0 (from gradio)\n",
      "  Using cached websockets-11.0.3-cp39-cp39-win_amd64.whl (124 kB)\n",
      "Requirement already satisfied: entrypoints in c:\\users\\e4roh\\anaconda3\\envs\\te_gpt2\\lib\\site-packages (from altair>=4.2.0->gradio) (0.4)\n",
      "Requirement already satisfied: jsonschema>=3.0 in c:\\users\\e4roh\\anaconda3\\envs\\te_gpt2\\lib\\site-packages (from altair>=4.2.0->gradio) (4.17.3)\n",
      "Requirement already satisfied: toolz in c:\\users\\e4roh\\anaconda3\\envs\\te_gpt2\\lib\\site-packages (from altair>=4.2.0->gradio) (0.12.0)\n",
      "Collecting fsspec (from gradio-client>=0.2.7->gradio)\n",
      "  Downloading fsspec-2023.6.0-py3-none-any.whl (163 kB)\n",
      "     -------------------------------------- 163.8/163.8 kB 9.6 MB/s eta 0:00:00\n",
      "Requirement already satisfied: packaging in c:\\users\\e4roh\\anaconda3\\envs\\te_gpt2\\lib\\site-packages (from gradio-client>=0.2.7->gradio) (23.1)\n",
      "Requirement already satisfied: typing-extensions in c:\\users\\e4roh\\anaconda3\\envs\\te_gpt2\\lib\\site-packages (from gradio-client>=0.2.7->gradio) (4.6.3)\n",
      "Collecting filelock (from huggingface-hub>=0.14.0->gradio)\n",
      "  Downloading filelock-3.12.2-py3-none-any.whl (10 kB)\n",
      "Requirement already satisfied: tqdm>=4.42.1 in c:\\users\\e4roh\\anaconda3\\envs\\te_gpt2\\lib\\site-packages (from huggingface-hub>=0.14.0->gradio) (4.65.0)\n",
      "Requirement already satisfied: mdurl~=0.1 in c:\\users\\e4roh\\anaconda3\\envs\\te_gpt2\\lib\\site-packages (from markdown-it-py[linkify]>=2.0.0->gradio) (0.1.2)\n",
      "Collecting linkify-it-py<3,>=1 (from markdown-it-py[linkify]>=2.0.0->gradio)\n",
      "  Downloading linkify_it_py-2.0.2-py3-none-any.whl (19 kB)\n",
      "INFO: pip is looking at multiple versions of mdit-py-plugins to determine which version is compatible with other requirements. This could take a while.\n",
      "Collecting mdit-py-plugins<=0.3.3 (from gradio)\n",
      "  Downloading mdit_py_plugins-0.3.2-py3-none-any.whl (50 kB)\n",
      "     ---------------------------------------- 50.4/50.4 kB 2.7 MB/s eta 0:00:00\n",
      "  Downloading mdit_py_plugins-0.3.1-py3-none-any.whl (46 kB)Note: you may need to restart the kernel to use updated packages.\n",
      "     ---------------------------------------- 46.5/46.5 kB ? eta 0:00:00\n",
      "  Downloading mdit_py_plugins-0.3.0-py3-none-any.whl (43 kB)\n",
      "     ---------------------------------------- 43.7/43.7 kB ? eta 0:00:00\n",
      "  Using cached mdit_py_plugins-0.2.8-py3-none-any.whl (41 kB)\n",
      "  Using cached mdit_py_plugins-0.2.7-py3-none-any.whl (41 kB)\n",
      "  Using cached mdit_py_plugins-0.2.6-py3-none-any.whl (39 kB)\n",
      "  Downloading mdit_py_plugins-0.2.5-py3-none-any.whl (39 kB)\n",
      "INFO: pip is looking at multiple versions of mdit-py-plugins to determine which version is compatible with other requirements. This could take a while.\n",
      "  Downloading mdit_py_plugins-0.2.4-py3-none-any.whl (39 kB)\n",
      "  Downloading mdit_py_plugins-0.2.3-py3-none-any.whl (39 kB)\n",
      "  Downloading mdit_py_plugins-0.2.2-py3-none-any.whl (39 kB)\n",
      "  Downloading mdit_py_plugins-0.2.1-py3-none-any.whl (38 kB)\n",
      "  Downloading mdit_py_plugins-0.2.0-py3-none-any.whl (38 kB)\n",
      "INFO: This is taking longer than usual. You might need to provide the dependency resolver with stricter constraints to reduce runtime. See https://pip.pypa.io/warnings/backtracking for guidance. If you want to abort this run, press Ctrl + C.\n",
      "  Downloading mdit_py_plugins-0.1.0-py3-none-any.whl (37 kB)\n",
      "Collecting markdown-it-py[linkify]>=2.0.0 (from gradio)\n",
      "  Using cached markdown_it_py-3.0.0-py3-none-any.whl (87 kB)\n",
      "  Using cached markdown_it_py-2.2.0-py3-none-any.whl (84 kB)\n",
      "Requirement already satisfied: python-dateutil>=2.8.1 in c:\\users\\e4roh\\anaconda3\\envs\\te_gpt2\\lib\\site-packages (from pandas->gradio) (2.8.2)\n",
      "Requirement already satisfied: pytz>=2020.1 in c:\\users\\e4roh\\anaconda3\\envs\\te_gpt2\\lib\\site-packages (from pandas->gradio) (2023.3)\n",
      "Requirement already satisfied: click>=7.0 in c:\\users\\e4roh\\anaconda3\\envs\\te_gpt2\\lib\\site-packages (from uvicorn>=0.14.0->gradio) (8.1.3)\n",
      "Collecting h11>=0.8 (from uvicorn>=0.14.0->gradio)\n",
      "  Using cached h11-0.14.0-py3-none-any.whl (58 kB)\n",
      "Requirement already satisfied: attrs>=17.3.0 in c:\\users\\e4roh\\anaconda3\\envs\\te_gpt2\\lib\\site-packages (from aiohttp->gradio) (23.1.0)\n",
      "Requirement already satisfied: charset-normalizer<4.0,>=2.0 in c:\\users\\e4roh\\anaconda3\\envs\\te_gpt2\\lib\\site-packages (from aiohttp->gradio) (3.1.0)\n",
      "Requirement already satisfied: multidict<7.0,>=4.5 in c:\\users\\e4roh\\anaconda3\\envs\\te_gpt2\\lib\\site-packages (from aiohttp->gradio) (6.0.4)\n",
      "Requirement already satisfied: async-timeout<5.0,>=4.0.0a3 in c:\\users\\e4roh\\anaconda3\\envs\\te_gpt2\\lib\\site-packages (from aiohttp->gradio) (4.0.2)\n",
      "Requirement already satisfied: yarl<2.0,>=1.0 in c:\\users\\e4roh\\anaconda3\\envs\\te_gpt2\\lib\\site-packages (from aiohttp->gradio) (1.9.2)\n",
      "Requirement already satisfied: frozenlist>=1.1.1 in c:\\users\\e4roh\\anaconda3\\envs\\te_gpt2\\lib\\site-packages (from aiohttp->gradio) (1.3.3)\n",
      "\n",
      "Requirement already satisfied: aiosignal>=1.1.2 in c:\\users\\e4roh\\anaconda3\\envs\\te_gpt2\\lib\\site-packages (from aiohttp->gradio) (1.3.1)\n",
      "Collecting starlette<0.28.0,>=0.27.0 (from fastapi->gradio)\n",
      "  Using cached starlette-0.27.0-py3-none-any.whl (66 kB)\n",
      "Requirement already satisfied: certifi in c:\\users\\e4roh\\anaconda3\\envs\\te_gpt2\\lib\\site-packages (from httpx->gradio) (2023.5.7)\n",
      "Collecting httpcore<0.18.0,>=0.15.0 (from httpx->gradio)\n",
      "  Downloading httpcore-0.17.2-py3-none-any.whl (72 kB)\n",
      "     ---------------------------------------- 72.5/72.5 kB 4.1 MB/s eta 0:00:00\n",
      "Requirement already satisfied: idna in c:\\users\\e4roh\\anaconda3\\envs\\te_gpt2\\lib\\site-packages (from httpx->gradio) (3.4)\n",
      "Requirement already satisfied: sniffio in c:\\users\\e4roh\\anaconda3\\envs\\te_gpt2\\lib\\site-packages (from httpx->gradio) (1.3.0)\n",
      "Requirement already satisfied: cycler>=0.10 in c:\\users\\e4roh\\anaconda3\\envs\\te_gpt2\\lib\\site-packages (from matplotlib->gradio) (0.11.0)\n",
      "Requirement already satisfied: kiwisolver>=1.0.1 in c:\\users\\e4roh\\anaconda3\\envs\\te_gpt2\\lib\\site-packages (from matplotlib->gradio) (1.4.4)\n",
      "Requirement already satisfied: pyparsing!=2.0.4,!=2.1.2,!=2.1.6,>=2.0.3 in c:\\users\\e4roh\\anaconda3\\envs\\te_gpt2\\lib\\site-packages (from matplotlib->gradio) (3.1.0)\n",
      "Requirement already satisfied: urllib3<3,>=1.21.1 in c:\\users\\e4roh\\anaconda3\\envs\\te_gpt2\\lib\\site-packages (from requests->gradio) (2.0.3)\n",
      "Requirement already satisfied: colorama in c:\\users\\e4roh\\anaconda3\\envs\\te_gpt2\\lib\\site-packages (from click>=7.0->uvicorn>=0.14.0->gradio) (0.4.6)\n",
      "Requirement already satisfied: anyio<5.0,>=3.0 in c:\\users\\e4roh\\anaconda3\\envs\\te_gpt2\\lib\\site-packages (from httpcore<0.18.0,>=0.15.0->httpx->gradio) (3.7.0)\n",
      "Requirement already satisfied: pyrsistent!=0.17.0,!=0.17.1,!=0.17.2,>=0.14.0 in c:\\users\\e4roh\\anaconda3\\envs\\te_gpt2\\lib\\site-packages (from jsonschema>=3.0->altair>=4.2.0->gradio) (0.19.3)\n",
      "Collecting uc-micro-py (from linkify-it-py<3,>=1->markdown-it-py[linkify]>=2.0.0->gradio)\n",
      "  Downloading uc_micro_py-1.0.2-py3-none-any.whl (6.2 kB)\n",
      "Requirement already satisfied: six>=1.5 in c:\\users\\e4roh\\anaconda3\\envs\\te_gpt2\\lib\\site-packages (from python-dateutil>=2.8.1->pandas->gradio) (1.16.0)\n",
      "Requirement already satisfied: exceptiongroup in c:\\users\\e4roh\\anaconda3\\envs\\te_gpt2\\lib\\site-packages (from anyio<5.0,>=3.0->httpcore<0.18.0,>=0.15.0->httpx->gradio) (1.1.1)\n",
      "Installing collected packages: pydub, ffmpy, websockets, uc-micro-py, semantic-version, python-multipart, orjson, markdown-it-py, h11, fsspec, filelock, aiofiles, uvicorn, starlette, mdit-py-plugins, linkify-it-py, huggingface-hub, httpcore, httpx, fastapi, gradio-client, gradio\n",
      "  Attempting uninstall: markdown-it-py\n",
      "    Found existing installation: markdown-it-py 3.0.0\n",
      "    Uninstalling markdown-it-py-3.0.0:\n",
      "      Successfully uninstalled markdown-it-py-3.0.0\n",
      "Successfully installed aiofiles-23.1.0 fastapi-0.98.0 ffmpy-0.3.0 filelock-3.12.2 fsspec-2023.6.0 gradio-3.35.2 gradio-client-0.2.7 h11-0.14.0 httpcore-0.17.2 httpx-0.24.1 huggingface-hub-0.15.1 linkify-it-py-2.0.2 markdown-it-py-2.2.0 mdit-py-plugins-0.3.3 orjson-3.9.1 pydub-0.25.1 python-multipart-0.0.6 semantic-version-2.10.0 starlette-0.27.0 uc-micro-py-1.0.2 uvicorn-0.22.0 websockets-11.0.3\n"
     ]
    }
   ],
   "source": [
    "%pip install gradio"
   ]
  },
  {
   "cell_type": "code",
   "execution_count": null,
   "metadata": {},
   "outputs": [],
   "source": []
  }
 ],
 "metadata": {
  "kernelspec": {
   "display_name": "tokenSupply",
   "language": "python",
   "name": "python3"
  },
  "language_info": {
   "codemirror_mode": {
    "name": "ipython",
    "version": 3
   },
   "file_extension": ".py",
   "mimetype": "text/x-python",
   "name": "python",
   "nbconvert_exporter": "python",
   "pygments_lexer": "ipython3",
   "version": "3.9.16"
  },
  "orig_nbformat": 4
 },
 "nbformat": 4,
 "nbformat_minor": 2
}
