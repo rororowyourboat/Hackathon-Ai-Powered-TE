{
 "cells": [
  {
   "cell_type": "code",
   "execution_count": null,
   "metadata": {},
   "outputs": [],
   "source": [
    "# this is on ocean\n",
    "file_on_ocean = f\"\"\"\n",
    "    ²\n",
    "\"\"\""
   ]
  },
  {
   "cell_type": "code",
   "execution_count": null,
   "metadata": {},
   "outputs": [],
   "source": [
    "def decide_which_file_to_pull(input):\n",
    "    # some logic to decide which file to pull based on summaries we have of each file\n",
    "    # some random AI magic will give us fileID\n",
    "    file_ID = 20\n",
    "    return file_ID\n",
    "\n",
    "def fetch_ocean(file_ID):\n",
    "    # this should use the file id to call ocean and get the file\n",
    "    # api call to ocean\n",
    "\n",
    "    return file_on_ocean\n",
    "\n",
    "def memory_pull_ocean(input):\n",
    "    #input will be a string\n",
    "    #some logic to decide which file we need\n",
    "    file_ID = decide_which_file_to_pull(input)\n",
    "\n",
    "    #pull the file from ocean\n",
    "    response_from_ocean = fetch_ocean(file_ID)\n",
    "\n",
    "    #return the response\n",
    "    return response_from_ocean\n"
   ]
  }
 ],
 "metadata": {
  "language_info": {
   "name": "python"
  },
  "orig_nbformat": 4
 },
 "nbformat": 4,
 "nbformat_minor": 2
}
