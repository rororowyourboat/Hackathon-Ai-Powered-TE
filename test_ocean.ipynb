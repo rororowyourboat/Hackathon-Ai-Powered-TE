{
 "cells": [
  {
   "cell_type": "code",
   "execution_count": 3,
   "metadata": {},
   "outputs": [
    {
     "ename": "NameError",
     "evalue": "name 'config' is not defined",
     "output_type": "error",
     "traceback": [
      "\u001b[1;31m---------------------------------------------------------------------------\u001b[0m",
      "\u001b[1;31mNameError\u001b[0m                                 Traceback (most recent call last)",
      "Cell \u001b[1;32mIn[3], line 2\u001b[0m\n\u001b[0;32m      1\u001b[0m \u001b[39mfrom\u001b[39;00m \u001b[39mocean_lib\u001b[39;00m\u001b[39m.\u001b[39;00m\u001b[39mocean\u001b[39;00m\u001b[39m.\u001b[39;00m\u001b[39mocean\u001b[39;00m \u001b[39mimport\u001b[39;00m Ocean\n\u001b[1;32m----> 2\u001b[0m ocean \u001b[39m=\u001b[39m Ocean(config)\n\u001b[0;32m      3\u001b[0m asset_dir \u001b[39m=\u001b[39m ocean\u001b[39m.\u001b[39massets\u001b[39m.\u001b[39mdownload_asset(ddo, bob, \u001b[39m'\u001b[39m\u001b[39m./\u001b[39m\u001b[39m'\u001b[39m, order_tx_id)\n",
      "\u001b[1;31mNameError\u001b[0m: name 'config' is not defined"
     ]
    }
   ],
   "source": [
    "from ocean_lib.web3_internal.utils import connect_to_network\n",
    "connect_to_network(\"development\")\n",
    "\n",
    "from ocean_lib.example_config import get_config_dict\n",
    "config = get_config_dict(\"development\")\n",
    "\n",
    "\n",
    "from ocean_lib.ocean.ocean import Ocean\n",
    "ocean = Ocean(config)\n",
    "asset_dir = ocean.assets.download_asset(ddo, bob, './', order_tx_id)"
   ]
  },
  {
   "cell_type": "code",
   "execution_count": 4,
   "metadata": {},
   "outputs": [],
   "source": [
    "from ocean_lib.example_config import get_config_dict"
   ]
  },
  {
   "cell_type": "code",
   "execution_count": 5,
   "metadata": {},
   "outputs": [
    {
     "ename": "ValueError",
     "evalue": "Unable to expand environment variable in host setting: 'https://polygon-mumbai.infura.io/v3/$WEB3_INFURA_PROJECT_ID'",
     "output_type": "error",
     "traceback": [
      "\u001b[1;31m---------------------------------------------------------------------------\u001b[0m",
      "\u001b[1;31mValueError\u001b[0m                                Traceback (most recent call last)",
      "Cell \u001b[1;32mIn[5], line 2\u001b[0m\n\u001b[0;32m      1\u001b[0m \u001b[39mfrom\u001b[39;00m \u001b[39mocean_lib\u001b[39;00m\u001b[39m.\u001b[39;00m\u001b[39mweb3_internal\u001b[39;00m\u001b[39m.\u001b[39;00m\u001b[39mutils\u001b[39;00m \u001b[39mimport\u001b[39;00m connect_to_network\n\u001b[1;32m----> 2\u001b[0m connect_to_network(\u001b[39m\"\u001b[39;49m\u001b[39mpolygon-test\u001b[39;49m\u001b[39m\"\u001b[39;49m)\n",
      "File \u001b[1;32mc:\\Users\\DELL Admin\\Documents\\Hackathon\\Hackathon-Ai-Powered-TE\\venvTokeb\\lib\\site-packages\\enforce_typing\\decorator.py:29\u001b[0m, in \u001b[0;36menforce_types.<locals>.decorate.<locals>.wrapper\u001b[1;34m(*args, **kwargs)\u001b[0m\n\u001b[0;32m     26\u001b[0m \u001b[39m@wraps\u001b[39m(func)\n\u001b[0;32m     27\u001b[0m \u001b[39mdef\u001b[39;00m \u001b[39mwrapper\u001b[39m(\u001b[39m*\u001b[39margs, \u001b[39m*\u001b[39m\u001b[39m*\u001b[39mkwargs):\n\u001b[0;32m     28\u001b[0m     check_types(\u001b[39m*\u001b[39margs, \u001b[39m*\u001b[39m\u001b[39m*\u001b[39mkwargs)\n\u001b[1;32m---> 29\u001b[0m     \u001b[39mreturn\u001b[39;00m func(\u001b[39m*\u001b[39margs, \u001b[39m*\u001b[39m\u001b[39m*\u001b[39mkwargs)\n",
      "File \u001b[1;32mc:\\Users\\DELL Admin\\Documents\\Hackathon\\Hackathon-Ai-Powered-TE\\venvTokeb\\lib\\site-packages\\ocean_lib\\web3_internal\\utils.py:93\u001b[0m, in \u001b[0;36mconnect_to_network\u001b[1;34m(network_name)\u001b[0m\n\u001b[0;32m     91\u001b[0m         network\u001b[39m.\u001b[39mconnect(network_name)\n\u001b[0;32m     92\u001b[0m \u001b[39melse\u001b[39;00m:\n\u001b[1;32m---> 93\u001b[0m     network\u001b[39m.\u001b[39;49mconnect(network_name)\n",
      "File \u001b[1;32mc:\\Users\\DELL Admin\\Documents\\Hackathon\\Hackathon-Ai-Powered-TE\\venvTokeb\\lib\\site-packages\\brownie\\network\\main.py:40\u001b[0m, in \u001b[0;36mconnect\u001b[1;34m(network, launch_rpc)\u001b[0m\n\u001b[0;32m     37\u001b[0m     \u001b[39mexcept\u001b[39;00m \u001b[39mKeyError\u001b[39;00m:\n\u001b[0;32m     38\u001b[0m         \u001b[39mpass\u001b[39;00m\n\u001b[1;32m---> 40\u001b[0m web3\u001b[39m.\u001b[39;49mconnect(host, active\u001b[39m.\u001b[39;49mget(\u001b[39m\"\u001b[39;49m\u001b[39mtimeout\u001b[39;49m\u001b[39m\"\u001b[39;49m, \u001b[39m30\u001b[39;49m))\n\u001b[0;32m     41\u001b[0m \u001b[39mif\u001b[39;00m CONFIG\u001b[39m.\u001b[39mnetwork_type \u001b[39m==\u001b[39m \u001b[39m\"\u001b[39m\u001b[39mdevelopment\u001b[39m\u001b[39m\"\u001b[39m \u001b[39mand\u001b[39;00m launch_rpc \u001b[39mand\u001b[39;00m \u001b[39mnot\u001b[39;00m rpc\u001b[39m.\u001b[39mis_active():\n\u001b[0;32m     42\u001b[0m     \u001b[39mif\u001b[39;00m is_connected():\n",
      "File \u001b[1;32mc:\\Users\\DELL Admin\\Documents\\Hackathon\\Hackathon-Ai-Powered-TE\\venvTokeb\\lib\\site-packages\\brownie\\network\\web3.py:54\u001b[0m, in \u001b[0;36mWeb3.connect\u001b[1;34m(self, uri, timeout)\u001b[0m\n\u001b[0;32m     51\u001b[0m \u001b[39mself\u001b[39m\u001b[39m.\u001b[39m_remove_middlewares()\n\u001b[0;32m     52\u001b[0m \u001b[39mself\u001b[39m\u001b[39m.\u001b[39mprovider \u001b[39m=\u001b[39m \u001b[39mNone\u001b[39;00m\n\u001b[1;32m---> 54\u001b[0m uri \u001b[39m=\u001b[39m _expand_environment_vars(uri)\n\u001b[0;32m     55\u001b[0m \u001b[39mtry\u001b[39;00m:\n\u001b[0;32m     56\u001b[0m     \u001b[39mif\u001b[39;00m Path(uri)\u001b[39m.\u001b[39mexists():\n",
      "File \u001b[1;32mc:\\Users\\DELL Admin\\Documents\\Hackathon\\Hackathon-Ai-Powered-TE\\venvTokeb\\lib\\site-packages\\brownie\\network\\web3.py:185\u001b[0m, in \u001b[0;36m_expand_environment_vars\u001b[1;34m(uri)\u001b[0m\n\u001b[0;32m    183\u001b[0m \u001b[39mif\u001b[39;00m uri \u001b[39m!=\u001b[39m expanded:\n\u001b[0;32m    184\u001b[0m     \u001b[39mreturn\u001b[39;00m expanded\n\u001b[1;32m--> 185\u001b[0m \u001b[39mraise\u001b[39;00m \u001b[39mValueError\u001b[39;00m(\u001b[39mf\u001b[39m\u001b[39m\"\u001b[39m\u001b[39mUnable to expand environment variable in host setting: \u001b[39m\u001b[39m'\u001b[39m\u001b[39m{\u001b[39;00muri\u001b[39m}\u001b[39;00m\u001b[39m'\u001b[39m\u001b[39m\"\u001b[39m)\n",
      "\u001b[1;31mValueError\u001b[0m: Unable to expand environment variable in host setting: 'https://polygon-mumbai.infura.io/v3/$WEB3_INFURA_PROJECT_ID'"
     ]
    }
   ],
   "source": [
    "from ocean_lib.web3_internal.utils import connect_to_network\n",
    "connect_to_network(\"polygon-test\")"
   ]
  }
 ],
 "metadata": {
  "kernelspec": {
   "display_name": "venvTokeb",
   "language": "python",
   "name": "python3"
  },
  "language_info": {
   "codemirror_mode": {
    "name": "ipython",
    "version": 3
   },
   "file_extension": ".py",
   "mimetype": "text/x-python",
   "name": "python",
   "nbconvert_exporter": "python",
   "pygments_lexer": "ipython3",
   "version": "3.10.9"
  },
  "orig_nbformat": 4
 },
 "nbformat": 4,
 "nbformat_minor": 2
}
